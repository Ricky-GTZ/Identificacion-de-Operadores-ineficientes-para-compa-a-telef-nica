{
 "cells": [
  {
   "cell_type": "markdown",
   "metadata": {},
   "source": [
    "# Proyecto Final: Telecomunicaciones: identificar operadores ineficaces\n",
    "\n",
    "# Enlace a drive : https://drive.google.com/drive/folders/1LhCGvpTS3F994r5TpALr3QgX3jSEI0sn?usp=sharing\n",
    "\n",
    "\n",
    "* El servicio de telefonía virtual CallMeMaybe está desarrollando una nueva función que brindará a los supervisores y las supervisores información sobre los operadores menos eficaces. Se considera que un operador es ineficaz si tiene una gran cantidad de llamadas entrantes perdidas (internas y externas) y un tiempo de espera prolongado para las llamadas entrantes. Además, si se supone que un operador debe realizar llamadas salientes, un número reducido de ellas también será un signo de ineficacia.\n",
    "\n",
    "- Lleva a cabo el análisis exploratorio de datos\n",
    "- Identificar operadores ineficaces\n",
    "- Prueba las hipótesis estadísticas\n",
    "\n",
    "### Descripción de los datos\n",
    "\n",
    "Los datasets contienen información sobre el uso del servicio de telefonía virtual CallMeMaybe. Sus clientes son organizaciones que necesitan distribuir gran cantidad de llamadas entrantes entre varios operadores, o realizar llamadas salientes a través de sus operadores. Los operadores también pueden realizar llamadas internas para comunicarse entre ellos. Estas llamadas se realizan a través de la red de CallMeMaybe."
   ]
  },
  {
   "cell_type": "markdown",
   "metadata": {},
   "source": [
    "## Objetivo: \n",
    "\n",
    "* Identificar operadores ineficientes con base en llamadas perdidas y tiempos de espera.\n",
    "* Analizar los factores que afectan la eficiencia en la atención de llamadas.\n",
    "* Proporcionar información útil a los supervisores para mejorar la gestión de operadores.\n",
    "\n",
    "Todos estos objetivos son de interes para los supervisores de la compañia telefonica y pueden ser usados para La implementacio mejorar la atención telefónica y la identificacion de tarifas o clientes que generan mayor carga operativa.\n",
    "\n",
    "## Especificar detalles\n",
    "De acuerdo a los datos asignados, podemos observar que tenemos una tabla con informacion sobre las llamadas y otra \n",
    "con los clientes y sus tarifas.\n",
    "\n",
    "Un operador sera clafificado como ineficaz cuando tenga un valor alto de llamadas perdidas, tiempos de espera largos\n",
    "y pocas llamadas salientes.\n",
    "\n",
    "## Hipotesis \n",
    "\n",
    "Hipótesis nula (H₀): No hay relación entre la cantidad de llamadas entrantes y la cantidad de llamadas perdidas por operador.\n",
    "Hipótesis alternativa (H₁): Los operadores con más llamadas entrantes tienen una mayor cantidad de llamadas perdidas.\n",
    "\n",
    "## Convertir las hipótesis en un plan de acción claro\n",
    "\n",
    "\n",
    "\n"
   ]
  },
  {
   "cell_type": "markdown",
   "metadata": {},
   "source": [
    "* Cargar los datasets para analizar los datos"
   ]
  },
  {
   "cell_type": "code",
   "execution_count": 89,
   "metadata": {},
   "outputs": [],
   "source": [
    "# Importar librerias\n",
    "# Importar librerias\n",
    "import pandas as pd\n",
    "import numpy as np\n",
    "import matplotlib.pyplot as plt\n",
    "import seaborn as sns\n",
    "from scipy.stats import pearsonr, spearmanr"
   ]
  },
  {
   "cell_type": "code",
   "execution_count": 64,
   "metadata": {},
   "outputs": [],
   "source": [
    "# Cargar los datasets para analizar los datos\n",
    "clientes = pd.read_csv('telecom_clients_us.csv')\n",
    "llamadas = pd.read_csv('telecom_dataset_us.csv')"
   ]
  },
  {
   "cell_type": "markdown",
   "metadata": {},
   "source": [
    "* Revisar valores nulos, duplicados y corregir tipos de datos"
   ]
  },
  {
   "cell_type": "code",
   "execution_count": 84,
   "metadata": {},
   "outputs": [
    {
     "name": "stdout",
     "output_type": "stream",
     "text": [
      "Clientes\n",
      "<class 'pandas.core.frame.DataFrame'>\n",
      "RangeIndex: 732 entries, 0 to 731\n",
      "Data columns (total 3 columns):\n",
      " #   Column       Non-Null Count  Dtype         \n",
      "---  ------       --------------  -----         \n",
      " 0   user_id      732 non-null    int64         \n",
      " 1   tariff_plan  732 non-null    object        \n",
      " 2   date_start   732 non-null    datetime64[ns]\n",
      "dtypes: datetime64[ns](1), int64(1), object(1)\n",
      "memory usage: 17.3+ KB\n",
      "None\n"
     ]
    },
    {
     "data": {
      "text/html": [
       "<div>\n",
       "<style scoped>\n",
       "    .dataframe tbody tr th:only-of-type {\n",
       "        vertical-align: middle;\n",
       "    }\n",
       "\n",
       "    .dataframe tbody tr th {\n",
       "        vertical-align: top;\n",
       "    }\n",
       "\n",
       "    .dataframe thead th {\n",
       "        text-align: right;\n",
       "    }\n",
       "</style>\n",
       "<table border=\"1\" class=\"dataframe\">\n",
       "  <thead>\n",
       "    <tr style=\"text-align: right;\">\n",
       "      <th></th>\n",
       "      <th>user_id</th>\n",
       "      <th>tariff_plan</th>\n",
       "      <th>date_start</th>\n",
       "    </tr>\n",
       "  </thead>\n",
       "  <tbody>\n",
       "    <tr>\n",
       "      <th>0</th>\n",
       "      <td>166713</td>\n",
       "      <td>A</td>\n",
       "      <td>2019-08-15</td>\n",
       "    </tr>\n",
       "    <tr>\n",
       "      <th>1</th>\n",
       "      <td>166901</td>\n",
       "      <td>A</td>\n",
       "      <td>2019-08-23</td>\n",
       "    </tr>\n",
       "    <tr>\n",
       "      <th>2</th>\n",
       "      <td>168527</td>\n",
       "      <td>A</td>\n",
       "      <td>2019-10-29</td>\n",
       "    </tr>\n",
       "    <tr>\n",
       "      <th>3</th>\n",
       "      <td>167097</td>\n",
       "      <td>A</td>\n",
       "      <td>2019-09-01</td>\n",
       "    </tr>\n",
       "    <tr>\n",
       "      <th>4</th>\n",
       "      <td>168193</td>\n",
       "      <td>A</td>\n",
       "      <td>2019-10-16</td>\n",
       "    </tr>\n",
       "    <tr>\n",
       "      <th>...</th>\n",
       "      <td>...</td>\n",
       "      <td>...</td>\n",
       "      <td>...</td>\n",
       "    </tr>\n",
       "    <tr>\n",
       "      <th>727</th>\n",
       "      <td>166554</td>\n",
       "      <td>B</td>\n",
       "      <td>2019-08-08</td>\n",
       "    </tr>\n",
       "    <tr>\n",
       "      <th>728</th>\n",
       "      <td>166911</td>\n",
       "      <td>B</td>\n",
       "      <td>2019-08-23</td>\n",
       "    </tr>\n",
       "    <tr>\n",
       "      <th>729</th>\n",
       "      <td>167012</td>\n",
       "      <td>B</td>\n",
       "      <td>2019-08-28</td>\n",
       "    </tr>\n",
       "    <tr>\n",
       "      <th>730</th>\n",
       "      <td>166867</td>\n",
       "      <td>B</td>\n",
       "      <td>2019-08-22</td>\n",
       "    </tr>\n",
       "    <tr>\n",
       "      <th>731</th>\n",
       "      <td>166565</td>\n",
       "      <td>B</td>\n",
       "      <td>2019-08-08</td>\n",
       "    </tr>\n",
       "  </tbody>\n",
       "</table>\n",
       "<p>732 rows × 3 columns</p>\n",
       "</div>"
      ],
      "text/plain": [
       "     user_id tariff_plan date_start\n",
       "0     166713           A 2019-08-15\n",
       "1     166901           A 2019-08-23\n",
       "2     168527           A 2019-10-29\n",
       "3     167097           A 2019-09-01\n",
       "4     168193           A 2019-10-16\n",
       "..       ...         ...        ...\n",
       "727   166554           B 2019-08-08\n",
       "728   166911           B 2019-08-23\n",
       "729   167012           B 2019-08-28\n",
       "730   166867           B 2019-08-22\n",
       "731   166565           B 2019-08-08\n",
       "\n",
       "[732 rows x 3 columns]"
      ]
     },
     "metadata": {},
     "output_type": "display_data"
    },
    {
     "name": "stdout",
     "output_type": "stream",
     "text": [
      "None\n",
      "Duplicados: 0\n",
      "LLamadas\n",
      "<class 'pandas.core.frame.DataFrame'>\n",
      "RangeIndex: 41491 entries, 0 to 41490\n",
      "Data columns (total 10 columns):\n",
      " #   Column               Non-Null Count  Dtype                    \n",
      "---  ------               --------------  -----                    \n",
      " 0   user_id              41491 non-null  int64                    \n",
      " 1   date                 41491 non-null  datetime64[ns, UTC+03:00]\n",
      " 2   direction            41491 non-null  object                   \n",
      " 3   internal             41491 non-null  object                   \n",
      " 4   operator_id          41491 non-null  float64                  \n",
      " 5   is_missed_call       41491 non-null  bool                     \n",
      " 6   calls_count          41491 non-null  int64                    \n",
      " 7   call_duration        41491 non-null  int64                    \n",
      " 8   total_call_duration  41491 non-null  int64                    \n",
      " 9   wait_time            41491 non-null  int64                    \n",
      "dtypes: bool(1), datetime64[ns, UTC+03:00](1), float64(1), int64(5), object(2)\n",
      "memory usage: 2.9+ MB\n",
      "None\n"
     ]
    },
    {
     "data": {
      "text/html": [
       "<div>\n",
       "<style scoped>\n",
       "    .dataframe tbody tr th:only-of-type {\n",
       "        vertical-align: middle;\n",
       "    }\n",
       "\n",
       "    .dataframe tbody tr th {\n",
       "        vertical-align: top;\n",
       "    }\n",
       "\n",
       "    .dataframe thead th {\n",
       "        text-align: right;\n",
       "    }\n",
       "</style>\n",
       "<table border=\"1\" class=\"dataframe\">\n",
       "  <thead>\n",
       "    <tr style=\"text-align: right;\">\n",
       "      <th></th>\n",
       "      <th>user_id</th>\n",
       "      <th>date</th>\n",
       "      <th>direction</th>\n",
       "      <th>internal</th>\n",
       "      <th>operator_id</th>\n",
       "      <th>is_missed_call</th>\n",
       "      <th>calls_count</th>\n",
       "      <th>call_duration</th>\n",
       "      <th>total_call_duration</th>\n",
       "      <th>wait_time</th>\n",
       "    </tr>\n",
       "  </thead>\n",
       "  <tbody>\n",
       "    <tr>\n",
       "      <th>0</th>\n",
       "      <td>166377</td>\n",
       "      <td>2019-08-05 00:00:00+03:00</td>\n",
       "      <td>out</td>\n",
       "      <td>True</td>\n",
       "      <td>880022.0</td>\n",
       "      <td>True</td>\n",
       "      <td>3</td>\n",
       "      <td>0</td>\n",
       "      <td>5</td>\n",
       "      <td>5</td>\n",
       "    </tr>\n",
       "    <tr>\n",
       "      <th>1</th>\n",
       "      <td>166377</td>\n",
       "      <td>2019-08-05 00:00:00+03:00</td>\n",
       "      <td>out</td>\n",
       "      <td>True</td>\n",
       "      <td>880020.0</td>\n",
       "      <td>True</td>\n",
       "      <td>1</td>\n",
       "      <td>0</td>\n",
       "      <td>1</td>\n",
       "      <td>1</td>\n",
       "    </tr>\n",
       "    <tr>\n",
       "      <th>2</th>\n",
       "      <td>166377</td>\n",
       "      <td>2019-08-05 00:00:00+03:00</td>\n",
       "      <td>out</td>\n",
       "      <td>True</td>\n",
       "      <td>880020.0</td>\n",
       "      <td>False</td>\n",
       "      <td>1</td>\n",
       "      <td>10</td>\n",
       "      <td>18</td>\n",
       "      <td>8</td>\n",
       "    </tr>\n",
       "    <tr>\n",
       "      <th>3</th>\n",
       "      <td>166377</td>\n",
       "      <td>2019-08-05 00:00:00+03:00</td>\n",
       "      <td>out</td>\n",
       "      <td>False</td>\n",
       "      <td>880022.0</td>\n",
       "      <td>True</td>\n",
       "      <td>3</td>\n",
       "      <td>0</td>\n",
       "      <td>25</td>\n",
       "      <td>25</td>\n",
       "    </tr>\n",
       "    <tr>\n",
       "      <th>4</th>\n",
       "      <td>166377</td>\n",
       "      <td>2019-08-05 00:00:00+03:00</td>\n",
       "      <td>out</td>\n",
       "      <td>False</td>\n",
       "      <td>880020.0</td>\n",
       "      <td>False</td>\n",
       "      <td>2</td>\n",
       "      <td>3</td>\n",
       "      <td>29</td>\n",
       "      <td>26</td>\n",
       "    </tr>\n",
       "    <tr>\n",
       "      <th>...</th>\n",
       "      <td>...</td>\n",
       "      <td>...</td>\n",
       "      <td>...</td>\n",
       "      <td>...</td>\n",
       "      <td>...</td>\n",
       "      <td>...</td>\n",
       "      <td>...</td>\n",
       "      <td>...</td>\n",
       "      <td>...</td>\n",
       "      <td>...</td>\n",
       "    </tr>\n",
       "    <tr>\n",
       "      <th>41486</th>\n",
       "      <td>168606</td>\n",
       "      <td>2019-11-09 00:00:00+03:00</td>\n",
       "      <td>out</td>\n",
       "      <td>False</td>\n",
       "      <td>957922.0</td>\n",
       "      <td>False</td>\n",
       "      <td>4</td>\n",
       "      <td>551</td>\n",
       "      <td>593</td>\n",
       "      <td>42</td>\n",
       "    </tr>\n",
       "    <tr>\n",
       "      <th>41487</th>\n",
       "      <td>168606</td>\n",
       "      <td>2019-11-10 00:00:00+03:00</td>\n",
       "      <td>out</td>\n",
       "      <td>True</td>\n",
       "      <td>957922.0</td>\n",
       "      <td>False</td>\n",
       "      <td>1</td>\n",
       "      <td>0</td>\n",
       "      <td>25</td>\n",
       "      <td>25</td>\n",
       "    </tr>\n",
       "    <tr>\n",
       "      <th>41488</th>\n",
       "      <td>168606</td>\n",
       "      <td>2019-11-10 00:00:00+03:00</td>\n",
       "      <td>out</td>\n",
       "      <td>True</td>\n",
       "      <td>957922.0</td>\n",
       "      <td>True</td>\n",
       "      <td>1</td>\n",
       "      <td>0</td>\n",
       "      <td>38</td>\n",
       "      <td>38</td>\n",
       "    </tr>\n",
       "    <tr>\n",
       "      <th>41489</th>\n",
       "      <td>168606</td>\n",
       "      <td>2019-11-11 00:00:00+03:00</td>\n",
       "      <td>out</td>\n",
       "      <td>True</td>\n",
       "      <td>957922.0</td>\n",
       "      <td>False</td>\n",
       "      <td>2</td>\n",
       "      <td>479</td>\n",
       "      <td>501</td>\n",
       "      <td>22</td>\n",
       "    </tr>\n",
       "    <tr>\n",
       "      <th>41490</th>\n",
       "      <td>168606</td>\n",
       "      <td>2019-11-15 00:00:00+03:00</td>\n",
       "      <td>out</td>\n",
       "      <td>True</td>\n",
       "      <td>957922.0</td>\n",
       "      <td>False</td>\n",
       "      <td>4</td>\n",
       "      <td>3130</td>\n",
       "      <td>3190</td>\n",
       "      <td>60</td>\n",
       "    </tr>\n",
       "  </tbody>\n",
       "</table>\n",
       "<p>41491 rows × 10 columns</p>\n",
       "</div>"
      ],
      "text/plain": [
       "       user_id                      date direction internal  operator_id  \\\n",
       "0       166377 2019-08-05 00:00:00+03:00       out     True     880022.0   \n",
       "1       166377 2019-08-05 00:00:00+03:00       out     True     880020.0   \n",
       "2       166377 2019-08-05 00:00:00+03:00       out     True     880020.0   \n",
       "3       166377 2019-08-05 00:00:00+03:00       out    False     880022.0   \n",
       "4       166377 2019-08-05 00:00:00+03:00       out    False     880020.0   \n",
       "...        ...                       ...       ...      ...          ...   \n",
       "41486   168606 2019-11-09 00:00:00+03:00       out    False     957922.0   \n",
       "41487   168606 2019-11-10 00:00:00+03:00       out     True     957922.0   \n",
       "41488   168606 2019-11-10 00:00:00+03:00       out     True     957922.0   \n",
       "41489   168606 2019-11-11 00:00:00+03:00       out     True     957922.0   \n",
       "41490   168606 2019-11-15 00:00:00+03:00       out     True     957922.0   \n",
       "\n",
       "       is_missed_call  calls_count  call_duration  total_call_duration  \\\n",
       "0                True            3              0                    5   \n",
       "1                True            1              0                    1   \n",
       "2               False            1             10                   18   \n",
       "3                True            3              0                   25   \n",
       "4               False            2              3                   29   \n",
       "...               ...          ...            ...                  ...   \n",
       "41486           False            4            551                  593   \n",
       "41487           False            1              0                   25   \n",
       "41488            True            1              0                   38   \n",
       "41489           False            2            479                  501   \n",
       "41490           False            4           3130                 3190   \n",
       "\n",
       "       wait_time  \n",
       "0              5  \n",
       "1              1  \n",
       "2              8  \n",
       "3             25  \n",
       "4             26  \n",
       "...          ...  \n",
       "41486         42  \n",
       "41487         25  \n",
       "41488         38  \n",
       "41489         22  \n",
       "41490         60  \n",
       "\n",
       "[41491 rows x 10 columns]"
      ]
     },
     "metadata": {},
     "output_type": "display_data"
    },
    {
     "name": "stdout",
     "output_type": "stream",
     "text": [
      "None\n",
      "Duplicados: 0\n"
     ]
    }
   ],
   "source": [
    "# Definir funcion para observar los tipos de campos\n",
    "def ver_datos(df, nombre):\n",
    "    df.drop_duplicates(inplace = True)\n",
    "    df.dropna(inplace = True)\n",
    "    df.reset_index(drop=True, inplace=True)\n",
    "    print(nombre)\n",
    "    print(df.info())\n",
    "    print(display(df))\n",
    "    print('Duplicados:',df.duplicated().sum())\n",
    "ver_datos(clientes, \"Clientes\")\n",
    "ver_datos(llamadas, \"LLamadas\")\n"
   ]
  },
  {
   "cell_type": "code",
   "execution_count": 67,
   "metadata": {},
   "outputs": [],
   "source": [
    "# Cambiar tipos de datos de columnas\n",
    "clientes['date_start'] = pd.to_datetime(clientes['date_start'])\n",
    "llamadas['date'] = pd.to_datetime(llamadas['date'])"
   ]
  },
  {
   "cell_type": "markdown",
   "metadata": {},
   "source": [
    "* Realizar el analisis exploratorio de datos. Revisar tipos de llamadas, relaciones entre los tipos de llamadas y\n",
    "carga de trabajo, llamadas perdidas y carga de trabajo, comparar los tiempos de espera de operadores, comparar \n",
    "operadores internos y externos."
   ]
  },
  {
   "cell_type": "code",
   "execution_count": 85,
   "metadata": {},
   "outputs": [],
   "source": [
    "# descargar datasets limpios\n",
    "llamadas.to_csv('llamadas_limpio.csv', index=False)\n",
    "clientes.to_csv('clientes_limpio.csv', index=False)"
   ]
  },
  {
   "cell_type": "markdown",
   "metadata": {},
   "source": [
    "# Observar estadisticas promedio para definir a los operadores ineficientes que estaran por debajo de esas estadisticas"
   ]
  },
  {
   "cell_type": "code",
   "execution_count": 68,
   "metadata": {},
   "outputs": [
    {
     "name": "stdout",
     "output_type": "stream",
     "text": [
      "Número total de operadores: 1092\n",
      "Número total de llamadas: 702085\n",
      "Promedio de llamadas por operador: 642.93\n",
      "Tiempo de espera promedio: 312.21 segundos\n",
      "Tiempo de llamada promedio: 1010.94 segundos\n"
     ]
    }
   ],
   "source": [
    "# Número total de operadores únicos\n",
    "num_operators = llamadas['operator_id'].nunique()\n",
    "\n",
    "# Número total de llamadas\n",
    "total_calls = llamadas['calls_count'].sum()\n",
    "\n",
    "# Promedio de llamadas por operador\n",
    "avg_calls_per_operator = llamadas.groupby('operator_id')['calls_count'].sum().mean()\n",
    "\n",
    "# Tiempo de espera promedio (total_call_duration - call_duration)\n",
    "llamadas['wait_time'] = llamadas['total_call_duration'] - llamadas['call_duration']\n",
    "avg_wait_time = llamadas['wait_time'].mean()\n",
    "\n",
    "# Tiempo de llamada promedio\n",
    "avg_call_duration = llamadas['call_duration'].mean()\n",
    "\n",
    "# Imprimir resultados\n",
    "print(f\"Número total de operadores: {num_operators}\")\n",
    "print(f\"Número total de llamadas: {total_calls}\")\n",
    "print(f\"Promedio de llamadas por operador: {avg_calls_per_operator:.2f}\")\n",
    "print(f\"Tiempo de espera promedio: {avg_wait_time:.2f} segundos\")\n",
    "print(f\"Tiempo de llamada promedio: {avg_call_duration:.2f} segundos\")"
   ]
  },
  {
   "cell_type": "code",
   "execution_count": 69,
   "metadata": {},
   "outputs": [
    {
     "name": "stdout",
     "output_type": "stream",
     "text": [
      "Número total de llamadas perdidas: 272318\n",
      "Promedio de llamadas perdidas por operador: 249.38\n"
     ]
    }
   ],
   "source": [
    "# Calcular el número total de llamadas perdidas\n",
    "total_missed_calls = llamadas[llamadas['is_missed_call'] == True]['calls_count'].sum()\n",
    "\n",
    "# Calcular el promedio de llamadas perdidas por operador\n",
    "avg_missed_calls = llamadas.groupby('operator_id')['calls_count'].apply(lambda x: x[llamadas['is_missed_call'] == True].sum()).mean()\n",
    "\n",
    "# Imprimir resultados\n",
    "print(f\"Número total de llamadas perdidas: {total_missed_calls}\")\n",
    "print(f\"Promedio de llamadas perdidas por operador: {avg_missed_calls:.2f}\")"
   ]
  },
  {
   "cell_type": "code",
   "execution_count": 70,
   "metadata": {},
   "outputs": [
    {
     "name": "stdout",
     "output_type": "stream",
     "text": [
      "Número total de llamadas salientes: 608343\n",
      "Promedio de llamadas salientes por operador: 689.73\n"
     ]
    }
   ],
   "source": [
    "# Filtrar solo las llamadas salientes\n",
    "llamadas_salientes = llamadas[llamadas['direction'] == 'out']\n",
    "\n",
    "# Número total de llamadas salientes\n",
    "total_out_calls = llamadas_salientes['calls_count'].sum()\n",
    "\n",
    "# Promedio de llamadas salientes por operador\n",
    "avg_out_calls = llamadas_salientes.groupby('operator_id')['calls_count'].sum().mean()\n",
    "\n",
    "# Imprimir resultados\n",
    "print(f\"Número total de llamadas salientes: {total_out_calls}\")\n",
    "print(f\"Promedio de llamadas salientes por operador: {avg_out_calls:.2f}\")"
   ]
  },
  {
   "cell_type": "markdown",
   "metadata": {},
   "source": [
    "* Para encontrar a los operadores ineficientes se definieron parametros promedio entre los mismos como:\n",
    "- La cantidad de llamadas promedio por operador\n",
    "- Los tiempos de espera promedio de cada operador\n",
    "- Numero de llamadas salientes promedio por operador\n",
    "\n",
    "A partir de estos parametros sera analizado cada operador para verificar si sus metricas estan por debajo del promedio"
   ]
  },
  {
   "cell_type": "code",
   "execution_count": 71,
   "metadata": {},
   "outputs": [
    {
     "name": "stdout",
     "output_type": "stream",
     "text": [
      "Operadores poco eficientes encontrados: 151\n",
      "             total_calls  out_calls  missed_calls  avg_wait_time\n",
      "operator_id                                                     \n",
      "879898.0            7312       7209          2360     459.690265\n",
      "882686.0            3650       2884           953     288.763393\n",
      "882690.0            1588       1417           468     581.761905\n",
      "884478.0            2292       2270          1155     427.423529\n",
      "884946.0            1859       1847           704     480.743902\n",
      "Operadores ineficientes encontrados: 3\n",
      "             total_calls  out_calls  missed_calls  avg_wait_time\n",
      "operator_id                                                     \n",
      "899788.0             603        603           327     296.230769\n",
      "919128.0             388        388           381     455.444444\n",
      "953462.0             684        684           462     406.366667\n"
     ]
    }
   ],
   "source": [
    "# Identificación de Operadores Ineficientes\n",
    "\n",
    "# Calcular métricas generales\n",
    "avg_total_calls = llamadas.groupby('operator_id')['calls_count'].sum().mean()\n",
    "avg_out_calls = llamadas[llamadas['direction'] == 'out'].groupby('operator_id')['calls_count'].sum().mean()\n",
    "avg_missed_calls = llamadas[llamadas['is_missed_call'] == True].groupby('operator_id')['calls_count'].sum().mean()\n",
    "llamadas['wait_time'] = llamadas['total_call_duration'] - llamadas['call_duration']\n",
    "avg_wait_time = llamadas.groupby('operator_id')['wait_time'].mean().mean()\n",
    "\n",
    "# Calcular métricas por operador\n",
    "operadores = llamadas.groupby('operator_id').agg(\n",
    "    total_calls=('calls_count', 'sum'),\n",
    "    out_calls=('calls_count', lambda x: x[llamadas['direction'] == 'out'].sum()),\n",
    "    missed_calls=('calls_count', lambda x: x[llamadas['is_missed_call'] == True].sum()),\n",
    "    avg_wait_time=('wait_time', 'mean')\n",
    ")\n",
    "# Filtrar operadores ineficientes (por debajo del promedio en al menos 2 métricas)\n",
    "poco_eficientes = operadores[\n",
    "\n",
    "    (operadores['missed_calls'] > avg_missed_calls) &  # Más llamadas perdidas es malo\n",
    "    (operadores['avg_wait_time'] > avg_wait_time)  # Más tiempo de espera es malo\n",
    "]\n",
    "operadores_ineficientes = operadores[\n",
    "\n",
    "    (operadores['out_calls'] < avg_out_calls) &\n",
    "    (operadores['missed_calls'] > avg_missed_calls) &  # Más llamadas perdidas es malo\n",
    "    (operadores['avg_wait_time'] > avg_wait_time)  # Más tiempo de espera es malo\n",
    "]\n",
    "# Imprimir resultados\n",
    "print(f\"Operadores poco eficientes encontrados: {len(poco_eficientes)}\")\n",
    "print(poco_eficientes.head())\n",
    "print(f\"Operadores ineficientes encontrados: {len(operadores_ineficientes)}\")\n",
    "print(operadores_ineficientes)"
   ]
  },
  {
   "cell_type": "markdown",
   "metadata": {},
   "source": [
    "* Al existir tres metricas definidas para la ineficiencia, se decidio que si un operador incumple 2 de estas metricas \n",
    "sera clasificado como \"poco eficiente\" y al incumplir las tres metricas sera \"ineficiente\"\n",
    "\n",
    "Luego de verificar las metricas de cada operador se observa que existen 151 poco eficientes y 3 ineficientes."
   ]
  },
  {
   "cell_type": "markdown",
   "metadata": {},
   "source": [
    "La recomendacion para los operadores poco eficientes es:\n",
    "* Compartir con cada operador su rendimiento y sugerencias de mejora de forma personalizada.\n",
    "* Los operadores ineficientes requieren intervención inmediata con capacitación, monitoreo y posible reasignación.\n",
    "\n",
    "La recomendacion con los operadores ineficientes: \n",
    "* Implementar entrenamientos para mejorar la gestión de llamadas y tiempos de espera.\n",
    "* Si, después de un periodo de mejora, no hay progreso, considerar reubicarlos o sustituirlos."
   ]
  },
  {
   "cell_type": "code",
   "execution_count": 97,
   "metadata": {},
   "outputs": [
    {
     "data": {
      "image/png": "[encoded data removed]",
      "text/plain": [
       "<Figure size 800x500 with 1 Axes>"
      ]
     },
     "metadata": {},
     "output_type": "display_data"
    }
   ],
   "source": [
    "# Relación entre carga de trabajo y llamadas perdidas\n",
    "calls_grouped = llamadas.groupby(\"operator_id\")[['calls_count', 'is_missed_call']].sum()\n",
    "plt.figure(figsize=(8,5))\n",
    "sns.scatterplot(data=calls_grouped, x=\"calls_count\", y=\"is_missed_call\")\n",
    "plt.title(\"Carga de Trabajo vs. Llamadas Perdidas\")\n",
    "plt.xlabel(\"Número de Llamadas\")\n",
    "plt.ylabel(\"Número de Llamadas Perdidas\")\n",
    "plt.show()"
   ]
  },
  {
   "cell_type": "markdown",
   "metadata": {},
   "source": [
    "* Filtrar el numero de llamadas entre 0 y 10,000"
   ]
  },
  {
   "cell_type": "code",
   "execution_count": 96,
   "metadata": {},
   "outputs": [
    {
     "data": {
      "image/png": "[encoded data removed]",
      "text/plain": [
       "<Figure size 800x500 with 1 Axes>"
      ]
     },
     "metadata": {},
     "output_type": "display_data"
    }
   ],
   "source": [
    "# Agrupar por operador y sumar las llamadas y las llamadas perdidas\n",
    "calls_grouped = llamadas.groupby(\"operator_id\")[['calls_count', 'is_missed_call']].sum()\n",
    "\n",
    "# Crear el gráfico de dispersión\n",
    "plt.figure(figsize=(8, 5))\n",
    "sns.scatterplot(data=calls_grouped, x=\"calls_count\", y=\"is_missed_call\")\n",
    "\n",
    "# Título y etiquetas del gráfico\n",
    "plt.title(\"Carga de Trabajo vs. Llamadas Perdidas\")\n",
    "plt.xlabel(\"Número de Llamadas\")\n",
    "plt.ylabel(\"Número de Llamadas Perdidas\")\n",
    "\n",
    "# Limitar el eje X entre 0 y 10,000\n",
    "plt.xlim(0, 10000)\n",
    "\n",
    "# Mostrar el gráfico\n",
    "plt.show()"
   ]
  },
  {
   "cell_type": "markdown",
   "metadata": {},
   "source": [
    "# Probar Hipotesis\n",
    "*Hipótesis nula (H₀): No hay relación entre la cantidad de llamadas entrantes y la cantidad de llamadas perdidas por operador.\n",
    "*Hipótesis alternativa (H₁): Los operadores con más llamadas entrantes tienen una mayor cantidad de llamadas perdidas."
   ]
  },
  {
   "cell_type": "code",
   "execution_count": null,
   "metadata": {},
   "outputs": [
    {
     "name": "stdout",
     "output_type": "stream",
     "text": [
      "Correlación de Pearson: 0.19784722110703218, p-valor: 2.0573925839406617e-06\n",
      "Correlación de Spearman: 0.47365434871829887, p-valor: 4.76965599227695e-33\n",
      "Rechazamos la hipótesis nula (H₀): Existe una relación entre llamadas entrantes y llamadas perdidas.\n"
     ]
    }
   ],
   "source": [
    "\n",
    "# Calcular llamadas entrantes y perdidas por operador\n",
    "operador_llamadas = llamadas[llamadas['direction'] == 'in'].groupby('operator_id')['calls_count'].sum()\n",
    "operador_llamadas_perdidas = llamadas[llamadas['is_missed_call'] == True].groupby('operator_id')['calls_count'].sum()\n",
    "\n",
    "# Alinear las series por operator_id\n",
    "data = pd.DataFrame({\n",
    "    'in_calls': operador_llamadas,\n",
    "    'missed_calls': operador_llamadas_perdidas\n",
    "}).dropna()\n",
    "\n",
    "# Calcular correlación de Pearson\n",
    "corr_pearson, p_value_pearson = pearsonr(data['in_calls'], data['missed_calls'])\n",
    "\n",
    "# Calcular correlación de Spearman\n",
    "corr_spearman, p_value_spearman = spearmanr(data['in_calls'], data['missed_calls'])\n",
    "\n",
    "# Mostrar los resultados\n",
    "print(f\"Correlación de Pearson: {corr_pearson}, p-valor: {p_value_pearson}\")\n",
    "print(f\"Correlación de Spearman: {corr_spearman}, p-valor: {p_value_spearman}\")\n",
    "\n",
    "# Determinar si se rechaza o no la hipótesis nula (H₀)\n",
    "if p_value_pearson < 0.05:\n",
    "    print(\"Rechazamos la hipótesis nula (H₀): Existe una relación entre llamadas entrantes y llamadas perdidas.\")\n",
    "else:\n",
    "    print(\"No rechazamos la hipótesis nula (H₀): No existe una relación significativa entre llamadas entrantes y llamadas perdidas.\")"
   ]
  },
  {
   "cell_type": "markdown",
   "metadata": {},
   "source": [
    "* Existe una relación significativa entre el número de llamadas entrantes y las llamadas perdidas.\n",
    "* Esta relacion confirma nuestra hipotesis, por lo tanto los operadoores con un mayor numero de llamadas entrantes tienden a perder mas llamadas."
   ]
  },
  {
   "cell_type": "markdown",
   "metadata": {},
   "source": [
    "## Conclusiones\n",
    "\n",
    "En resumen, este análisis proporciona una visión clara de las áreas de mejora para los operadores del servicio CallMeMaybe. Al mejorar el manejo de las llamadas entrantes y optimizar el tiempo de espera, es posible reducir significativamente las llamadas perdidas y mejorar la eficiencia general del servicio. La intervención específica en operadores ineficientes y la capacitación general pueden llevar a un servicio más fluido y eficiente.\n",
    "\n",
    "* Recomendaciones:\n",
    "\n",
    "* Optimizar el Enrutamiento de Llamadas: Existe una relación entre el número de llamadas entrantes y las perdidas, puede que los operadores estén sobrecargados. Se podría optimizar el sistema de enrutamiento de llamadas para distribuir las llamadas de manera más eficiente.\n",
    "\n",
    "* Capacitación de Operadores: Realizar entrenamientos sobre gestión de llamadas entrantes y manejo de llamadas perdidas, especialmente para aquellos operadores con mayor volumen de llamadas."
   ]
  },
  {
   "cell_type": "markdown",
   "metadata": {},
   "source": [
    "# Referencias\n",
    "\n",
    "Correlacion Estadistica:\n",
    "Instituto Clavijero. (s.f.). Probabilidad y estadística – Semana 4. Belver Clavijero. Recuperado el 19 de marzo de 2025, de https://belver.clavijero.edu.mx/cursos/nme/semestre5/probyest_1/s4/contenidos/index.html\n",
    "\n",
    "T-Test:\n",
    "Sánchez Turcios, R. A. (2015). t-Student. Usos y abusos. Revista Mexicana de Cardiología, 26(1), []. Recuperado de https://www.scielo.org.mx/scielo.php?script=sci_arttext&pid=S0188-21982015000100009\n",
    "\n",
    "Xtics:\n",
    "Matplotlib Developers. (s.f.). matplotlib.pyplot.xticks. Matplotlib. Recuperado el 19 de marzo de 2025, de https://matplotlib.org/stable/api/_as_gen/matplotlib.pyplot.xticks.html\n",
    "\n",
    "Heatmap:\n",
    "Waskom, M. L. (s.f.). seaborn.heatmap. Seaborn. Recuperado el 19 de marzo de 2025, de https://seaborn.pydata.org/generated/seaborn.heatmap.html\n",
    "\n",
    "Boxplot:\n",
    "Matplotlib Developers. (s.f.). matplotlib.pyplot.boxplot. Matplotlib. Recuperado el 19 de marzo de 2025, de https://matplotlib.org/stable/api/_as_gen/matplotlib.pyplot.boxplot.html"
   ]
  }
 ],
 "metadata": {
  "kernelspec": {
   "display_name": "Python 3",
   "language": "python",
   "name": "python3"
  },
  "language_info": {
   "codemirror_mode": {
    "name": "ipython",
    "version": 3
   },
   "file_extension": ".py",
   "mimetype": "text/x-python",
   "name": "python",
   "nbconvert_exporter": "python",
   "pygments_lexer": "ipython3",
   "version": "3.13.1"
  }
 },
 "nbformat": 4,
 "nbformat_minor": 2
}
